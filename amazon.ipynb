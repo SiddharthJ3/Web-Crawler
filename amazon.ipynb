{
 "cells": [
  {
   "cell_type": "code",
   "execution_count": 1,
   "metadata": {},
   "outputs": [],
   "source": [
    "from selenium import webdriver            \n",
    "import time\n",
    "import pandas as pd \n",
    "import numpy as np \n",
    "import warnings\n",
    "warnings.filterwarnings('ignore')\n",
    "from bs4 import BeautifulSoup"
   ]
  },
  {
   "cell_type": "code",
   "execution_count": 2,
   "metadata": {},
   "outputs": [],
   "source": [
    "driver=webdriver.Firefox()"
   ]
  },
  {
   "cell_type": "code",
   "execution_count": 3,
   "metadata": {},
   "outputs": [],
   "source": [
    "amazon_urls = [\n",
    "    \"https://www.amazon.in/stores/page/C449E603-EFEE-4862-9271-05AB5EBEEE6A?\",\n",
    "    \"https://www.amazon.in/stores/page/88A144B6-20D9-4EB9-B8B0-D73D6DB9ADF5?\",\n",
    "    \"https://www.amazon.in/stores/page/4198D013-CE02-49DC-892D-8D7D79D8E65E?\",\n",
    "    \"https://www.amazon.in/stores/page/DE47F10C-F6E8-4B2C-A5A6-53555256878B?\",\n",
    "    \"https://www.amazon.in/stores/page/6F965F90-19EC-4EC7-A186-400CF6426D64?\",\n",
    "    \"https://www.amazon.in/stores/page/7482736C-3322-4AB1-AC32-65E32EE05CE1?\",\n",
    "    \"https://www.amazon.in/stores/page/956732E6-CB59-49E6-AE32-62B66C5C63AB?\",\n",
    "    \"https://www.amazon.in/stores/page/38C47895-90A2-46B8-A861-4BAF09AF0467?\",\n",
    "    \"https://www.amazon.in/stores/page/AC015DF5-9C88-4F5D-8F1F-E41E88C30567?\",\n",
    "    \"https://www.amazon.in/stores/page/DB5BEC81-8229-49D1-B582-EC50B62BD4E5?\"\n",
    "]\n"
   ]
  },
  {
   "cell_type": "code",
   "execution_count": 4,
   "metadata": {},
   "outputs": [],
   "source": [
    "\n",
    "def data(soup):\n",
    "    all_dicts = []\n",
    "    a = soup.find_all('li', class_='ProductGridItem__itemOuter__KUtvv ProductGridItem__grid-tapestry__D0bpE ProductGridItem__fixed__DQzmO')\n",
    "    \n",
    "    for i in a:\n",
    "        b = BeautifulSoup(str(i), 'html.parser')\n",
    "\n",
    "        title_element = b.find('div', class_='Title__truncateTitle__DGaow').get_text(strip=True)\n",
    "        price_element = b.find('span', class_='Price__whole__mQGs5')\n",
    "        link = b.find('div', class_='Title__truncateTitle__DGaow').find('a').get('href')\n",
    "\n",
    "\n",
    "        if price_element is not None:\n",
    "            price = int(price_element.get_text(strip=True).replace(',', ''))\n",
    "        else:\n",
    "            price = None\n",
    "\n",
    "        result_dict = {'title': title_element, 'price': price,'url':'https://www.amazon.in'+link}\n",
    "        all_dicts.append(result_dict)\n",
    "\n",
    "    df = pd.DataFrame(all_dicts)\n",
    "    return df"
   ]
  },
  {
   "cell_type": "code",
   "execution_count": 5,
   "metadata": {},
   "outputs": [
    {
     "name": "stdout",
     "output_type": "stream",
     "text": [
      "Success for the page: https://www.amazon.in/stores/page/C449E603-EFEE-4862-9271-05AB5EBEEE6A?\n",
      "Success for the page: https://www.amazon.in/stores/page/88A144B6-20D9-4EB9-B8B0-D73D6DB9ADF5?\n",
      "Success for the page: https://www.amazon.in/stores/page/4198D013-CE02-49DC-892D-8D7D79D8E65E?\n",
      "Success for the page: https://www.amazon.in/stores/page/DE47F10C-F6E8-4B2C-A5A6-53555256878B?\n",
      "Success for the page: https://www.amazon.in/stores/page/6F965F90-19EC-4EC7-A186-400CF6426D64?\n",
      "Success for the page: https://www.amazon.in/stores/page/7482736C-3322-4AB1-AC32-65E32EE05CE1?\n",
      "Success for the page: https://www.amazon.in/stores/page/956732E6-CB59-49E6-AE32-62B66C5C63AB?\n",
      "Success for the page: https://www.amazon.in/stores/page/38C47895-90A2-46B8-A861-4BAF09AF0467?\n",
      "Success for the page: https://www.amazon.in/stores/page/AC015DF5-9C88-4F5D-8F1F-E41E88C30567?\n",
      "Success for the page: https://www.amazon.in/stores/page/DB5BEC81-8229-49D1-B582-EC50B62BD4E5?\n"
     ]
    }
   ],
   "source": [
    "all_dfs = []\n",
    "\n",
    "for j in amazon_urls:\n",
    "    driver.get(j)\n",
    "    time.sleep(5)\n",
    "    \n",
    "    soup = BeautifulSoup(driver.page_source, 'html.parser')\n",
    "\n",
    "    result = data(soup)\n",
    "    all_dfs.append(result)\n",
    "    print('Success for the page: ' + j)\n",
    "    time.sleep(2)\n"
   ]
  },
  {
   "cell_type": "code",
   "execution_count": 6,
   "metadata": {},
   "outputs": [],
   "source": [
    "driver.quit()"
   ]
  },
  {
   "cell_type": "code",
   "execution_count": 7,
   "metadata": {},
   "outputs": [],
   "source": [
    "df=pd.concat(all_dfs,ignore_index=True)"
   ]
  },
  {
   "cell_type": "code",
   "execution_count": 8,
   "metadata": {},
   "outputs": [
    {
     "name": "stdout",
     "output_type": "stream",
     "text": [
      "https://www.amazon.in/Park-Avenue-Apple-Cider-Shampoo/dp/B091Z6R6FT?ref_=ast_sto_dp&th=1&psc=1\n",
      "https://www.amazon.in/Park-Avenue-Water-Shampoo-180ml/dp/B091Z47Y5Q?ref_=ast_sto_dp\n",
      "https://www.amazon.in/Park-Avenue-Damage-Shampoo-350ml/dp/B00K1C03SG?ref_=ast_sto_dp&th=1&psc=1\n",
      "https://www.amazon.in/Park-Avenue-Shampoo-Damage-190ml/dp/B00DSNLV1S?ref_=ast_sto_dp&th=1&psc=1\n",
      "https://www.amazon.in/Park-Avenue-Shampoo-Shiny-Bouncy/dp/B00HT03X76?ref_=ast_sto_dp\n",
      "https://www.amazon.in/Park-Avenue-Beer-Shampoo-Damage/dp/B08JDK9JL7?ref_=ast_sto_dp&th=1&psc=1\n",
      "https://www.amazon.in/Park-Avenue-Pure-Luxury-500gm/dp/B0B6ZXHMX7?ref_=ast_sto_dp\n",
      "https://www.amazon.in/Park-Avenue-Good-Morning-500gm/dp/B0B6ZZB6Q6?ref_=ast_sto_dp&th=1&psc=1\n",
      "https://www.amazon.in/Park-Avenue-Cool-Blue-500gm/dp/B0B71149YK?ref_=ast_sto_dp&th=1&psc=1\n",
      "https://www.amazon.in/Avenue-Premium-Menthol-Multi-Mineral-Energizers/dp/B077GYP18M?ref_=ast_sto_dp&th=1&psc=1\n",
      "https://www.amazon.in/Park-Avenue-Soap-Luxury-125g/dp/B077GZ5D23?ref_=ast_sto_dp&th=1&psc=1\n",
      "https://www.amazon.in/Park-Avenue-Good-Morning-Soap/dp/B075KLZWKC?ref_=ast_sto_dp\n",
      "https://www.amazon.in/Park-Avenue-Deodorant-Perfumes-Essential/dp/B0BGRZQMTM?ref_=ast_sto_dp&th=1&psc=1\n",
      "https://www.amazon.in/Park-Avenue-Deodorant-Perfumes-Essential/dp/B0BGS17R51?ref_=ast_sto_dp\n",
      "https://www.amazon.in/Park-Avenue-Signature-Voyage-235ml/dp/B01CSHNUFE?ref_=ast_sto_dp&th=1&psc=1\n",
      "https://www.amazon.in/Park-Avenue-Classic-150ml-Morning/dp/B075MGGBL1?ref_=ast_sto_dp\n",
      "https://www.amazon.in/Park-Avenue-Super-Saver-Voyage/dp/B00ZC4U2NY?ref_=ast_sto_dp&th=1&psc=1\n",
      "https://www.amazon.in/Park-Avenue-Morning-Classic-250ml/dp/B00HVVXAXA?ref_=ast_sto_dp&th=1&psc=1\n",
      "https://www.amazon.in/Park-Avenue-Cool-Blue-Classic/dp/B007E9IIHC?ref_=ast_sto_dp&th=1&psc=1\n",
      "https://www.amazon.in/Park-Avenue-Storm-Deo-150ml/dp/B007E9IGSS?ref_=ast_sto_dp&th=1&psc=1\n",
      "https://www.amazon.in/Park-Avenue-Signature-Deo-140ml/dp/B019U6DC0E?ref_=ast_sto_dp\n",
      "https://www.amazon.in/Park-Avenue-Good-Morning-Deodorant/dp/B007E9I11K?ref_=ast_sto_dp&th=1&psc=1\n",
      "https://www.amazon.in/Park-Avenue-Signature-Voyage-140ml/dp/B007E9INFO?ref_=ast_sto_dp&th=1&psc=1\n",
      "https://www.amazon.in/Park-Avenue-Mega-Signature-235ml/dp/B077P7T61W?ref_=ast_sto_dp&th=1&psc=1\n",
      "https://www.amazon.in/Park-Avenue-Signature-Alter-140ml/dp/B0063BN2RS?ref_=ast_sto_dp&th=1&psc=1\n",
      "https://www.amazon.in/Park-Avenue-Tranquil-Fragrance-Spray/dp/B007E9IJM6?ref_=ast_sto_dp&th=1&psc=1\n",
      "https://www.amazon.in/Park-Avenue-Classic-Morning-167Gm/dp/B06XVSSXBV?ref_=ast_sto_dp\n",
      "https://www.amazon.in/Park-Avenue-Classic-Storm-167Gm/dp/B06XW6JRD5?ref_=ast_sto_dp\n",
      "https://www.amazon.in/Park-Avenue-Classic-Morning-100gm/dp/B06XW8MH73?ref_=ast_sto_dp&th=1&psc=1\n",
      "https://www.amazon.in/Park-Avenue-Classic-Tranquil-100gm/dp/B06XW2F5D2?ref_=ast_sto_dp\n",
      "https://www.amazon.in/Park-Avenue-Mega-Pack-Classic/dp/B00HVVX9XQ?ref_=ast_sto_dp\n",
      "https://www.amazon.in/Park-Avenue-Storm-Super-Saver/dp/B00HVVXBMA?ref_=ast_sto_dp\n",
      "https://www.amazon.in/Park-Avenue-Body-Deo-Morning/dp/B074SXL4Q6?ref_=ast_sto_dp&th=1&psc=1\n",
      "https://www.amazon.in/Park-Avenue-Morning-100ml-Storm/dp/B073ZDBPSP?ref_=ast_sto_dp&th=1&psc=1\n",
      "https://www.amazon.in/Park-Avenue-Premium-Perfume-120ml/dp/B00PS7Z6RC?ref_=ast_sto_dp&th=1&psc=1\n",
      "https://www.amazon.in/Park-Avenue-Premium-Perfume-Magnifico/dp/B00YHAWWM8?ref_=ast_sto_dp&th=1&psc=1\n",
      "https://www.amazon.in/Park-Avenue-Premium-Perfume-Regal/dp/B00PS8DUJW?ref_=ast_sto_dp&th=1&psc=1\n",
      "https://www.amazon.in/Park-Avenue-Maestro-Perfume-Liquid/dp/B07FYNR75H?ref_=ast_sto_dp&th=1&psc=1\n",
      "https://www.amazon.in/Park-Avenue-Morning-Perfume-Ultimate/dp/B07C2HT4NF?ref_=ast_sto_dp&th=1&psc=1\n",
      "https://www.amazon.in/Park-Avenue-Voyage-Amazon-Perfume/dp/B084V46KGT?ref_=ast_sto_dp&th=1&psc=1\n",
      "https://www.amazon.in/Park-Avenue-Morning-Perfume-Intense/dp/B07C2J291K?ref_=ast_sto_dp&th=1&psc=1\n",
      "https://www.amazon.in/Park-Avenue-Alexander-Fragrance-150ml/dp/B074N9KSKP?ref_=ast_sto_dp&th=1&psc=1\n",
      "https://www.amazon.in/Park-Avenue-Epic-Fragrance-150ml/dp/B074N47KMR?ref_=ast_sto_dp&th=1&psc=1\n",
      "https://www.amazon.in/Park-Avenue-Marcus-Fragrance-150ml/dp/B074NB139S?ref_=ast_sto_dp&th=1&psc=1\n",
      "https://www.amazon.in/Park-Avenue-Collection-Perfume-Spray/dp/B01MQTPJ6D?ref_=ast_sto_dp\n",
      "https://www.amazon.in/Park-Avenue-Elevate-Perfume-Spray/dp/B074XTFRHM?ref_=ast_sto_dp\n",
      "https://www.amazon.in/Park-Avenue-Marcus-Fragrance-150ml/dp/B07BZSN7RN?ref_=ast_sto_dp&th=1&psc=1\n",
      "https://www.amazon.in/Park-Avenue-Perfume-Harmony-100ml/dp/B07845CN2K?ref_=ast_sto_dp\n",
      "https://www.amazon.in/Park-Avenue-Perfume-Euphoria-100ml/dp/B07845BYSZ?ref_=ast_sto_dp\n",
      "https://www.amazon.in/Park-Avenue-Perfume-Harmony-50ml/dp/B077P5L1TZ?ref_=ast_sto_dp\n",
      "https://www.amazon.in/Park-Avenue-Voyage-Obsession-Parfum/dp/B084ZGRVX7?ref_=ast_sto_dp&th=1&psc=1\n",
      "https://www.amazon.in/Park-Avenue-Founder-Premium-Perfume/dp/B0BBGZSFKJ?ref_=ast_sto_dp\n",
      "https://www.amazon.in/Park-Avenue-Discoverer-Premium-Perfume/dp/B0BBGZMB6Z?ref_=ast_sto_dp\n",
      "https://www.amazon.in/Park-Avenue-Livewire-Premium-Perfume/dp/B0BBH3HYC8?ref_=ast_sto_dp\n",
      "https://www.amazon.in/Park-Avenue-Premium-Perfume-Lasting/dp/B0BBH1PS7R?ref_=ast_sto_dp\n",
      "https://www.amazon.in/Park-Avenue-Luxury-Grooming-Collection/dp/B00G23S4YS?ref_=ast_sto_dp\n",
      "https://www.amazon.in/Park-Avenue-Good-Morning-Grooming/dp/B07YY7YPLT?ref_=ast_sto_dp\n",
      "https://www.amazon.in/Park-Avenue-Essential-Grooming-kit/dp/B00G23S3S0?ref_=ast_sto_dp\n",
      "https://www.amazon.in/Park-Avenue-Perfect-Purifies-Nourishes/dp/B08JDHSKMS?ref_=ast_sto_dp\n",
      "https://www.amazon.in/Park-Avenue-Clears-Refreshes-Mineral/dp/B08JDNKLHT?ref_=ast_sto_dp\n"
     ]
    }
   ],
   "source": [
    "for i in df['url']:\n",
    "    print(i)"
   ]
  },
  {
   "cell_type": "code",
   "execution_count": 9,
   "metadata": {},
   "outputs": [],
   "source": [
    "df.to_csv('D:/Crawling/data/data.csv',index=False)"
   ]
  }
 ],
 "metadata": {
  "kernelspec": {
   "display_name": "Python 3",
   "language": "python",
   "name": "python3"
  },
  "language_info": {
   "codemirror_mode": {
    "name": "ipython",
    "version": 3
   },
   "file_extension": ".py",
   "mimetype": "text/x-python",
   "name": "python",
   "nbconvert_exporter": "python",
   "pygments_lexer": "ipython3",
   "version": "3.8.10"
  }
 },
 "nbformat": 4,
 "nbformat_minor": 2
}
