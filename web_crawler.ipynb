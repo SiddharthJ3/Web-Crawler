{
 "cells": [
  {
   "cell_type": "code",
   "execution_count": 1,
   "metadata": {},
   "outputs": [],
   "source": [
    "import mysql.connector\n",
    "from selenium import webdriver            \n",
    "import time\n",
    "import pandas as pd \n",
    "import numpy as np \n",
    "import warnings\n",
    "warnings.filterwarnings('ignore')\n",
    "from bs4 import BeautifulSoup"
   ]
  },
  {
   "cell_type": "code",
   "execution_count": 2,
   "metadata": {},
   "outputs": [],
   "source": [
    "driver=webdriver.Firefox()"
   ]
  },
  {
   "cell_type": "code",
   "execution_count": 3,
   "metadata": {},
   "outputs": [],
   "source": [
    "amazon_urls = [\n",
    "    \"https://www.amazon.in/stores/page/C449E603-EFEE-4862-9271-05AB5EBEEE6A?\",\n",
    "    \"https://www.amazon.in/stores/page/88A144B6-20D9-4EB9-B8B0-D73D6DB9ADF5?\",\n",
    "    \"https://www.amazon.in/stores/page/4198D013-CE02-49DC-892D-8D7D79D8E65E?\",\n",
    "    \"https://www.amazon.in/stores/page/DE47F10C-F6E8-4B2C-A5A6-53555256878B?\",\n",
    "    \"https://www.amazon.in/stores/page/6F965F90-19EC-4EC7-A186-400CF6426D64?\",\n",
    "    \"https://www.amazon.in/stores/page/7482736C-3322-4AB1-AC32-65E32EE05CE1?\",\n",
    "    \"https://www.amazon.in/stores/page/956732E6-CB59-49E6-AE32-62B66C5C63AB?\",\n",
    "    \"https://www.amazon.in/stores/page/38C47895-90A2-46B8-A861-4BAF09AF0467?\",\n",
    "    \"https://www.amazon.in/stores/page/AC015DF5-9C88-4F5D-8F1F-E41E88C30567?\",\n",
    "    \"https://www.amazon.in/stores/page/DB5BEC81-8229-49D1-B582-EC50B62BD4E5?\"\n",
    "]\n"
   ]
  },
  {
   "cell_type": "code",
   "execution_count": 4,
   "metadata": {},
   "outputs": [],
   "source": [
    "def insert_into_database(data):\n",
    "    db_connection = mysql.connector.connect(\n",
    "        host = \"localhost\",\n",
    "        user = \"root\",\n",
    "        password = \"Qwerty@12345\",\n",
    "        database = \"data\"\n",
    "    )\n",
    "\n",
    "    cursor = db_connection.cursor()\n",
    "\n",
    "    for index, row in data.iterrows():\n",
    "        title = row['title']\n",
    "        price = row['price']\n",
    "        url = row['url']\n",
    "        sql = \"INSERT INTO products (title, price, url) VALUES (%s, %s, %s)\"\n",
    "        val = (title, price, url)\n",
    "        cursor.execute(sql, val)\n",
    "    \n",
    "    db_connection.commit()\n",
    "    cursor.close()\n",
    "    db_connection.close()"
   ]
  },
  {
   "cell_type": "code",
   "execution_count": 5,
   "metadata": {},
   "outputs": [],
   "source": [
    "\n",
    "def data(soup):\n",
    "    all_dicts = []\n",
    "    a = soup.find_all('li', class_='ProductGridItem__itemOuter__KUtvv ProductGridItem__grid-tapestry__D0bpE ProductGridItem__fixed__DQzmO')\n",
    "    \n",
    "    for i in a:\n",
    "        b = BeautifulSoup(str(i), 'html.parser')\n",
    "\n",
    "        title_element = b.find('div', class_='Title__truncateTitle__DGaow').get_text(strip=True)\n",
    "        price_element = b.find('span', class_='Price__whole__mQGs5')\n",
    "        link = b.find('div', class_='Title__truncateTitle__DGaow').find('a').get('href')\n",
    "\n",
    "\n",
    "        if price_element is not None:\n",
    "            price = int(price_element.get_text(strip=True).replace(',', ''))\n",
    "        else:\n",
    "            price = None\n",
    "\n",
    "        result_dict = {'title': title_element, 'price': price,'url':'https://www.amazon.in'+link}\n",
    "        all_dicts.append(result_dict)\n",
    "\n",
    "    df = pd.DataFrame(all_dicts)\n",
    "    return df"
   ]
  },
  {
   "cell_type": "code",
   "execution_count": null,
   "metadata": {},
   "outputs": [],
   "source": [
    "all_dfs = []\n",
    "\n",
    "for j in amazon_urls:\n",
    "    driver.get(j)\n",
    "    time.sleep(5)\n",
    "    \n",
    "    soup = BeautifulSoup(driver.page_source, 'html.parser')\n",
    "\n",
    "    result = data(soup)\n",
    "    all_dfs.append(result)\n",
    "    print('Success for the page: ' + j)\n",
    "    time.sleep(2)\n"
   ]
  },
  {
   "cell_type": "code",
   "execution_count": 7,
   "metadata": {},
   "outputs": [],
   "source": [
    "driver.quit()"
   ]
  },
  {
   "cell_type": "code",
   "execution_count": 8,
   "metadata": {},
   "outputs": [],
   "source": [
    "df=pd.concat(all_dfs,ignore_index=True)"
   ]
  },
  {
   "cell_type": "code",
   "execution_count": 9,
   "metadata": {},
   "outputs": [],
   "source": [
    "insert_into_database(df)"
   ]
  }
 ],
 "metadata": {
  "kernelspec": {
   "display_name": "Python 3",
   "language": "python",
   "name": "python3"
  },
  "language_info": {
   "codemirror_mode": {
    "name": "ipython",
    "version": 3
   },
   "file_extension": ".py",
   "mimetype": "text/x-python",
   "name": "python",
   "nbconvert_exporter": "python",
   "pygments_lexer": "ipython3",
   "version": "3.8.10"
  }
 },
 "nbformat": 4,
 "nbformat_minor": 2
}
